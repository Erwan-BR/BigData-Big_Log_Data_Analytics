{
  "nbformat": 4,
  "nbformat_minor": 0,
  "metadata": {
    "colab": {
      "provenance": []
    },
    "kernelspec": {
      "name": "python3",
      "display_name": "Python 3"
    },
    "language_info": {
      "name": "python"
    }
  },
  "cells": [
    {
      "cell_type": "markdown",
      "source": [
        "# **Préambule**"
      ],
      "metadata": {
        "id": "ijGoc5u_lhFu"
      }
    },
    {
      "cell_type": "code",
      "source": [
        "!apt-get install openjdk-8-jdk-headless -qq > /dev/null"
      ],
      "metadata": {
        "id": "qpGjYAqyljlt"
      },
      "execution_count": 1,
      "outputs": []
    },
    {
      "cell_type": "code",
      "source": [
        "!wget -q https://downloads.apache.org/spark/spark-3.2.3/spark-3.2.3-bin-hadoop3.2.tgz"
      ],
      "metadata": {
        "id": "wAbXtp3Mlpbo"
      },
      "execution_count": 2,
      "outputs": []
    },
    {
      "cell_type": "code",
      "source": [
        "!tar xf spark-3.2.3-bin-hadoop3.2.tgz"
      ],
      "metadata": {
        "id": "UhLxg2-olun_"
      },
      "execution_count": 3,
      "outputs": []
    },
    {
      "cell_type": "code",
      "source": [
        "import os\n",
        "os.environ[\"JAVA_HOME\"] = \"/usr/lib/jvm/java-8-openjdk-amd64\"\n",
        "os.environ[\"SPARK_HOME\"] = \"/content/spark-3.2.3-bin-hadoop3.2\"\n",
        "import sys"
      ],
      "metadata": {
        "id": "lkTtUIshlwiK"
      },
      "execution_count": 4,
      "outputs": []
    },
    {
      "cell_type": "code",
      "source": [
        "!pip install pyspark==3.2.3"
      ],
      "metadata": {
        "colab": {
          "base_uri": "https://localhost:8080/"
        },
        "id": "Siqx0eeflyq3",
        "outputId": "0a94312f-d739-41ad-b3c9-6af49119e35f"
      },
      "execution_count": 5,
      "outputs": [
        {
          "output_type": "stream",
          "name": "stdout",
          "text": [
            "Looking in indexes: https://pypi.org/simple, https://us-python.pkg.dev/colab-wheels/public/simple/\n",
            "Collecting pyspark==3.2.3\n",
            "  Downloading pyspark-3.2.3.tar.gz (281.5 MB)\n",
            "\u001b[2K     \u001b[90m━━━━━━━━━━━━━━━━━━━━━━━━━━━━━━━━━━━━━━━\u001b[0m \u001b[32m281.5/281.5 MB\u001b[0m \u001b[31m5.9 MB/s\u001b[0m eta \u001b[36m0:00:00\u001b[0m\n",
            "\u001b[?25h  Preparing metadata (setup.py) ... \u001b[?25l\u001b[?25hdone\n",
            "Collecting py4j==0.10.9.5\n",
            "  Downloading py4j-0.10.9.5-py2.py3-none-any.whl (199 kB)\n",
            "\u001b[2K     \u001b[90m━━━━━━━━━━━━━━━━━━━━━━━━━━━━━━━━━━━━━━\u001b[0m \u001b[32m199.7/199.7 KB\u001b[0m \u001b[31m27.2 MB/s\u001b[0m eta \u001b[36m0:00:00\u001b[0m\n",
            "\u001b[?25hBuilding wheels for collected packages: pyspark\n",
            "  Building wheel for pyspark (setup.py) ... \u001b[?25l\u001b[?25hdone\n",
            "  Created wheel for pyspark: filename=pyspark-3.2.3-py2.py3-none-any.whl size=281990673 sha256=68599db498e243914be733774b14083cc6a82678a5d28dd12bf8356bbbe6346a\n",
            "  Stored in directory: /root/.cache/pip/wheels/9a/99/8c/e2d5ede0e1aefb33c64af344f2cd569354237f0bdd673bd243\n",
            "Successfully built pyspark\n",
            "Installing collected packages: py4j, pyspark\n",
            "Successfully installed py4j-0.10.9.5 pyspark-3.2.3\n"
          ]
        }
      ]
    },
    {
      "cell_type": "code",
      "source": [
        "#import findspark\n",
        "#findspark.init()\n",
        "from pyspark.sql import SparkSession\n",
        "from pyspark.conf import SparkConf\n",
        "from pyspark.sql.functions import *"
      ],
      "metadata": {
        "id": "lDEJXYk4l8tN"
      },
      "execution_count": 6,
      "outputs": []
    },
    {
      "cell_type": "code",
      "source": [
        "# Check the pyspark version\n",
        "import pyspark\n",
        "print(pyspark.__version__)"
      ],
      "metadata": {
        "colab": {
          "base_uri": "https://localhost:8080/"
        },
        "id": "fX-T_rMUl_zd",
        "outputId": "41bff6a3-be8c-4e2c-c9e5-623f9e0e6138"
      },
      "execution_count": 7,
      "outputs": [
        {
          "output_type": "stream",
          "name": "stdout",
          "text": [
            "3.2.3\n"
          ]
        }
      ]
    },
    {
      "cell_type": "code",
      "source": [
        "spark = SparkSession.builder.master(\"local[*]\").appName(\"MyFirstProgram\").getOrCreate()\n",
        "sc=spark.sparkContext\n",
        "\n",
        "# Test the spark\n",
        "df = spark.createDataFrame([{\"hello\": \"world\"} for x in range(1000)])\n",
        "df.show(3, False)"
      ],
      "metadata": {
        "colab": {
          "base_uri": "https://localhost:8080/"
        },
        "id": "whEeBw0HmEdN",
        "outputId": "f8c976a8-afac-49e6-f4dc-b5692b7cd3b2"
      },
      "execution_count": 8,
      "outputs": [
        {
          "output_type": "stream",
          "name": "stdout",
          "text": [
            "+-----+\n",
            "|hello|\n",
            "+-----+\n",
            "|world|\n",
            "|world|\n",
            "|world|\n",
            "+-----+\n",
            "only showing top 3 rows\n",
            "\n"
          ]
        }
      ]
    },
    {
      "cell_type": "markdown",
      "source": [
        "\n",
        "\n",
        "---\n",
        "\n",
        "\n",
        "# **Import**"
      ],
      "metadata": {
        "id": "P8eMZw9OfYOT"
      }
    },
    {
      "cell_type": "code",
      "source": [
        "# import for exercise 0\n",
        "\n",
        "import zipfile\n",
        "from google.colab import drive\n",
        "import time\n",
        "\n",
        "# import for exercise 1\n",
        "\n",
        "from pyspark import SparkFiles\n",
        "from pyspark.sql.types import StructType, StructField, IntegerType, StringType\n",
        "from pyspark.sql import Row\n",
        "import re\n",
        "import string\n",
        "\n",
        "# import for exercise 2\n",
        "\n",
        "from pyspark.sql.types import *"
      ],
      "metadata": {
        "id": "NiO0nfSYfXbI"
      },
      "execution_count": 9,
      "outputs": []
    },
    {
      "cell_type": "markdown",
      "source": [
        "\n",
        "\n",
        "---\n",
        "\n",
        "\n",
        "# **Exercise n°0: Download and Prepare your Log File**"
      ],
      "metadata": {
        "id": "j5DxD6vKppcO"
      }
    },
    {
      "cell_type": "code",
      "source": [
        "drive.mount('/content/drive')\n",
        "!apt install unzip\n",
        "!unzip -u \"/content/drive/MyDrive/Colab_Notebooks/Big_Data/TP2/pagecounts-20160101-000000_parsed.out.zip\" -d \"/content/drive/MyDrive/Colab_Notebooks/Big_Data/TP2/\""
      ],
      "metadata": {
        "id": "YkT_oqWDmT9G",
        "colab": {
          "base_uri": "https://localhost:8080/"
        },
        "outputId": "c9ab76f5-8f07-4169-f7f7-f935a623adae"
      },
      "execution_count": 10,
      "outputs": [
        {
          "output_type": "stream",
          "name": "stdout",
          "text": [
            "Mounted at /content/drive\n",
            "Reading package lists... Done\n",
            "Building dependency tree       \n",
            "Reading state information... Done\n",
            "unzip is already the newest version (6.0-25ubuntu1.1).\n",
            "The following package was automatically installed and is no longer required:\n",
            "  libnvidia-common-510\n",
            "Use 'apt autoremove' to remove it.\n",
            "0 upgraded, 0 newly installed, 0 to remove and 21 not upgraded.\n",
            "Archive:  /content/drive/MyDrive/Colab_Notebooks/Big_Data/TP2/pagecounts-20160101-000000_parsed.out.zip\n"
          ]
        }
      ]
    },
    {
      "cell_type": "code",
      "source": [
        "wiki_url = \"/content/drive/MyDrive/Colab_Notebooks/Big_Data/TP2/pagecounts-20160101-000000_parsed.out\"\n",
        "spark.sparkContext.addFile(wiki_url)\n",
        "wiki_RDD_v1 = sc.textFile(SparkFiles.get(\"pagecounts-20160101-000000_parsed.out\"))"
      ],
      "metadata": {
        "id": "2cyWIg5Kj_uV"
      },
      "execution_count": 11,
      "outputs": []
    },
    {
      "cell_type": "code",
      "source": [
        "wiki_RDD_v1.take(10)"
      ],
      "metadata": {
        "id": "h3Bs0xiilFK2",
        "colab": {
          "base_uri": "https://localhost:8080/"
        },
        "outputId": "acb08cec-fabd-45d0-8d7b-60aa94f7d3f1"
      },
      "execution_count": 12,
      "outputs": [
        {
          "output_type": "execute_result",
          "data": {
            "text/plain": [
              "['aa 271_a.C 1 4675',\n",
              " 'aa Category:User_th 1 4770',\n",
              " 'aa Chiron_Elias_Krase 1 4694',\n",
              " 'aa Dassault_rafaele 2 9372',\n",
              " 'aa E.Desv 1 4662',\n",
              " 'aa File:Wiktionary-logo-en.png 1 10752',\n",
              " 'aa Indonesian_Wikipedia 1 4679',\n",
              " 'aa Main_Page 5 266946',\n",
              " 'aa Requests_for_new_languages/Wikipedia_Banyumasan 1 4733',\n",
              " 'aa Special:Contributions/203.144.160.245 1 5812']"
            ]
          },
          "metadata": {},
          "execution_count": 12
        }
      ]
    },
    {
      "cell_type": "code",
      "source": [
        "def separe_elements(ligne):\n",
        "    elements = ligne.split(\" \")\n",
        "    return (elements[0], elements[1], int(elements[2]), int(elements[3]))"
      ],
      "metadata": {
        "id": "5F8qALo6lIn7"
      },
      "execution_count": 13,
      "outputs": []
    },
    {
      "cell_type": "code",
      "source": [
        "wiki_RDD = wiki_RDD_v1.map(lambda word : separe_elements(word))"
      ],
      "metadata": {
        "id": "oZQsf_C9lMN5"
      },
      "execution_count": 14,
      "outputs": []
    },
    {
      "cell_type": "code",
      "source": [
        "wiki_RDD.take(10)"
      ],
      "metadata": {
        "id": "qat1Gu_hlRFZ",
        "colab": {
          "base_uri": "https://localhost:8080/"
        },
        "outputId": "abe5a8ff-ac4a-4961-ba36-f78ededfb835"
      },
      "execution_count": 15,
      "outputs": [
        {
          "output_type": "execute_result",
          "data": {
            "text/plain": [
              "[('aa', '271_a.C', 1, 4675),\n",
              " ('aa', 'Category:User_th', 1, 4770),\n",
              " ('aa', 'Chiron_Elias_Krase', 1, 4694),\n",
              " ('aa', 'Dassault_rafaele', 2, 9372),\n",
              " ('aa', 'E.Desv', 1, 4662),\n",
              " ('aa', 'File:Wiktionary-logo-en.png', 1, 10752),\n",
              " ('aa', 'Indonesian_Wikipedia', 1, 4679),\n",
              " ('aa', 'Main_Page', 5, 266946),\n",
              " ('aa', 'Requests_for_new_languages/Wikipedia_Banyumasan', 1, 4733),\n",
              " ('aa', 'Special:Contributions/203.144.160.245', 1, 5812)]"
            ]
          },
          "metadata": {},
          "execution_count": 15
        }
      ]
    },
    {
      "cell_type": "code",
      "source": [
        "columns = [\"Project\", \"Page_title\",\"Page_hits\",\"Page_size\"]\n",
        "wiki_DF = spark.createDataFrame(wiki_RDD,columns)  "
      ],
      "metadata": {
        "id": "BvrE0tGTlTVS"
      },
      "execution_count": 16,
      "outputs": []
    },
    {
      "cell_type": "code",
      "source": [
        "wiki_DF.show()"
      ],
      "metadata": {
        "id": "htKVpWGClYJa",
        "colab": {
          "base_uri": "https://localhost:8080/"
        },
        "outputId": "94f396e5-3578-4e62-d6aa-37a98383f7a5"
      },
      "execution_count": 17,
      "outputs": [
        {
          "output_type": "stream",
          "name": "stdout",
          "text": [
            "+-------+--------------------+---------+---------+\n",
            "|Project|          Page_title|Page_hits|Page_size|\n",
            "+-------+--------------------+---------+---------+\n",
            "|     aa|             271_a.C|        1|     4675|\n",
            "|     aa|    Category:User_th|        1|     4770|\n",
            "|     aa|  Chiron_Elias_Krase|        1|     4694|\n",
            "|     aa|    Dassault_rafaele|        2|     9372|\n",
            "|     aa|              E.Desv|        1|     4662|\n",
            "|     aa|File:Wiktionary-l...|        1|    10752|\n",
            "|     aa|Indonesian_Wikipedia|        1|     4679|\n",
            "|     aa|           Main_Page|        5|   266946|\n",
            "|     aa|Requests_for_new_...|        1|     4733|\n",
            "|     aa|Special:Contribut...|        1|     5812|\n",
            "|     aa|Special:Contribut...|        1|     5805|\n",
            "|     aa|Special:Contribut...|        1|     5808|\n",
            "|     aa|Special:Contribut...|        1|     5812|\n",
            "|     aa|Special:ListFiles...|        1|     5035|\n",
            "|     aa|Special:ListFiles...|        1|     5036|\n",
            "|     aa|Special:ListFiles...|        1|     5032|\n",
            "|     aa|Special:Log/Md._F...|        1|     5529|\n",
            "|     aa|Special:Log/MikeL...|        1|     5368|\n",
            "|     aa|Special:MyLanguag...|        1|     4701|\n",
            "|     aa|Special:RecentCha...|        1|     6152|\n",
            "+-------+--------------------+---------+---------+\n",
            "only showing top 20 rows\n",
            "\n"
          ]
        }
      ]
    },
    {
      "cell_type": "markdown",
      "source": [
        "---\n",
        "# **Exercise n°1 : Explore Web Logs with Spark RDDs**\n"
      ],
      "metadata": {
        "id": "yYZW6GexAlyA"
      }
    },
    {
      "cell_type": "code",
      "source": [
        "Log = StructType([\n",
        "    StructField(\"project\", StringType(), True),\n",
        "    StructField(\"title\", StringType(), True),\n",
        "    StructField(\"hits\", IntegerType(), True),\n",
        "    StructField(\"size\", IntegerType(), True)\n",
        "])"
      ],
      "metadata": {
        "id": "b3yAbvWjAw5d"
      },
      "execution_count": 18,
      "outputs": []
    },
    {
      "cell_type": "code",
      "source": [
        "def separe_elements(ligne):\n",
        "    elements = ligne.split(\" \")\n",
        "    LogEx = Row(project=elements[0], title=elements[1], hits=int(elements[2]), size=int(elements[3]))\n",
        "    return LogEx"
      ],
      "metadata": {
        "id": "AVpQZZt7DZbF"
      },
      "execution_count": 19,
      "outputs": []
    },
    {
      "cell_type": "code",
      "source": [
        "start = time.time()\n",
        "\n",
        "log_RDD = wiki_RDD_v1.map(lambda word : separe_elements(word))\n",
        "\n",
        "log_RDD.take(10)\n",
        "\n",
        "log_RDD_Thirdline = log_RDD.take(3)[-1]\n",
        "\n",
        "print(log_RDD_Thirdline.project)\n",
        "print(log_RDD_Thirdline.title)\n",
        "print(log_RDD_Thirdline.hits)\n",
        "print(log_RDD_Thirdline.size)\n",
        "\n",
        "end = time.time()\n",
        "\n",
        "print(\"The execution time for this question is \" + str(end-start) + \" seconds.\")"
      ],
      "metadata": {
        "id": "S0WfUEEfDdFT",
        "colab": {
          "base_uri": "https://localhost:8080/"
        },
        "outputId": "ac8b556e-07ed-423b-9d9d-c5160d009345"
      },
      "execution_count": 21,
      "outputs": [
        {
          "output_type": "stream",
          "name": "stdout",
          "text": [
            "aa\n",
            "Chiron_Elias_Krase\n",
            "1\n",
            "4694\n",
            "The execution time for this question is 0.8432097434997559 seconds.\n"
          ]
        }
      ]
    },
    {
      "cell_type": "markdown",
      "source": [
        "# **Question n°1 :**"
      ],
      "metadata": {
        "id": "DtFoFyQODFb6"
      }
    },
    {
      "cell_type": "code",
      "source": [
        "def print_record(rdd, number):\n",
        "  myLine = rdd.take(number)[-1]\n",
        "  print(\"Project code: \" + myLine.project + \"\\t Page: \" + myLine.title + \"\\t Page hits: \" + str(myLine.hits) + \"\\t Page size: \" + str(myLine.size))"
      ],
      "metadata": {
        "id": "yrp98ZjtDEAy"
      },
      "execution_count": 22,
      "outputs": []
    },
    {
      "cell_type": "code",
      "source": [
        "start = time.time()\n",
        "\n",
        "for i in range(1,21):\n",
        "  print_record(log_RDD, i)\n",
        "\n",
        "end = time.time()\n",
        "\n",
        "print(\"\\nThe execution time for this question is \" + str(end-start) + \" seconds.\")"
      ],
      "metadata": {
        "id": "OS0fpeDfEa06",
        "colab": {
          "base_uri": "https://localhost:8080/"
        },
        "outputId": "b079b780-ada5-4f6d-89c4-38459ba21f6a"
      },
      "execution_count": 23,
      "outputs": [
        {
          "output_type": "stream",
          "name": "stdout",
          "text": [
            "Project code: aa\t Page: 271_a.C\t Page hits: 1\t Page size: 4675\n",
            "Project code: aa\t Page: Category:User_th\t Page hits: 1\t Page size: 4770\n",
            "Project code: aa\t Page: Chiron_Elias_Krase\t Page hits: 1\t Page size: 4694\n",
            "Project code: aa\t Page: Dassault_rafaele\t Page hits: 2\t Page size: 9372\n",
            "Project code: aa\t Page: E.Desv\t Page hits: 1\t Page size: 4662\n",
            "Project code: aa\t Page: File:Wiktionary-logo-en.png\t Page hits: 1\t Page size: 10752\n",
            "Project code: aa\t Page: Indonesian_Wikipedia\t Page hits: 1\t Page size: 4679\n",
            "Project code: aa\t Page: Main_Page\t Page hits: 5\t Page size: 266946\n",
            "Project code: aa\t Page: Requests_for_new_languages/Wikipedia_Banyumasan\t Page hits: 1\t Page size: 4733\n",
            "Project code: aa\t Page: Special:Contributions/203.144.160.245\t Page hits: 1\t Page size: 5812\n",
            "Project code: aa\t Page: Special:Contributions/5.232.61.79\t Page hits: 1\t Page size: 5805\n",
            "Project code: aa\t Page: Special:Contributions/Ayarportugal\t Page hits: 1\t Page size: 5808\n",
            "Project code: aa\t Page: Special:Contributions/Born2bgratis\t Page hits: 1\t Page size: 5812\n",
            "Project code: aa\t Page: Special:ListFiles/Betacommand\t Page hits: 1\t Page size: 5035\n",
            "Project code: aa\t Page: Special:ListFiles/Bohdan_p\t Page hits: 1\t Page size: 5036\n",
            "Project code: aa\t Page: Special:ListFiles/Nyttend\t Page hits: 1\t Page size: 5032\n",
            "Project code: aa\t Page: Special:Log/Md._Farhan\t Page hits: 1\t Page size: 5529\n",
            "Project code: aa\t Page: Special:Log/MikeLynch\t Page hits: 1\t Page size: 5368\n",
            "Project code: aa\t Page: Special:MyLanguage/Meta:Index\t Page hits: 1\t Page size: 4701\n",
            "Project code: aa\t Page: Special:RecentChangesLinked/Main_Page\t Page hits: 1\t Page size: 6152\n",
            "The execution time for this question is 8.22298550605774 seconds.\n"
          ]
        }
      ]
    },
    {
      "cell_type": "markdown",
      "source": [
        "# **Question n°2**"
      ],
      "metadata": {
        "id": "c3N195gUSdXs"
      }
    },
    {
      "cell_type": "code",
      "source": [
        "start = time.time()\n",
        "\n",
        "log_RDD_Count = log_RDD.count()\n",
        "print(\"In this rdd, there is \" + str(log_RDD_Count) + \" records.\")\n",
        "\n",
        "end = time.time()\n",
        "\n",
        "print(\"The execution time for this question is \" + str(end-start) + \" seconds.\")"
      ],
      "metadata": {
        "id": "HPVwEV2YGIHs",
        "colab": {
          "base_uri": "https://localhost:8080/"
        },
        "outputId": "a2dbf4b6-df32-45d8-9879-2312eb46a198"
      },
      "execution_count": 24,
      "outputs": [
        {
          "output_type": "stream",
          "name": "stdout",
          "text": [
            "In this rdd, there is 3324129 records.\n",
            "The execution time for this question is 12.679304122924805 seconds.\n"
          ]
        }
      ]
    },
    {
      "cell_type": "markdown",
      "source": [
        "# **Question n°3**"
      ],
      "metadata": {
        "id": "CJMWTRbOSvjN"
      }
    },
    {
      "cell_type": "code",
      "source": [
        "start = time.time()\n",
        "\n",
        "log_RDD_Max = log_RDD.map(lambda x : x[3]).max()\n",
        "log_RDD_Min = log_RDD.map(lambda x : x[3]).min()\n",
        "log_RDD_Mean = (log_RDD.map(lambda x : x[3]).sum())/log_RDD_Count\n",
        "log_RDD_MaxHits = log_RDD.map(lambda x : x[2]).max()\n",
        "print(\"About the page size, we know that :\")\n",
        "print(\"The max is : \" + str(log_RDD_Max) + \", the min is : \" + str(log_RDD_Min) + \" and the mean is : \" + str(log_RDD_Mean))\n",
        "\n",
        "end = time.time()\n",
        "\n",
        "print(\"\\nThe execution time for this question is \" + str(end-start) + \" seconds.\")"
      ],
      "metadata": {
        "id": "GdqhEKO8J7UO",
        "colab": {
          "base_uri": "https://localhost:8080/"
        },
        "outputId": "eb2cf936-6ce0-401f-cc7d-d9021f0918ef"
      },
      "execution_count": 25,
      "outputs": [
        {
          "output_type": "stream",
          "name": "stdout",
          "text": [
            "About the page size, we know that :\n",
            "The max is : 141180155987, the min is : 0 and the mean is : 132239.56957446598\n",
            "\n",
            "The execution time for this question is 60.39345073699951 seconds.\n"
          ]
        }
      ]
    },
    {
      "cell_type": "markdown",
      "source": [
        "# **Question n°4**"
      ],
      "metadata": {
        "id": "29Ie2XwSS3gt"
      }
    },
    {
      "cell_type": "code",
      "source": [
        "def keepMax(x):\n",
        "  if x[3]==log_RDD_Max:\n",
        "    return x"
      ],
      "metadata": {
        "id": "MBj5kgfWPWEa"
      },
      "execution_count": 27,
      "outputs": []
    },
    {
      "cell_type": "code",
      "source": [
        "start = time.time()\n",
        "\n",
        "log_RDD_MaxPages = log_RDD.filter(lambda x : keepMax(x))\n",
        "log_RDD_MaxPages.take(10)\n",
        "\n",
        "end = time.time()\n",
        "\n",
        "print(\"\\nThe execution time for this question is \" + str(end-start) + \" seconds.\")"
      ],
      "metadata": {
        "id": "dTS_zbY5O3lg",
        "colab": {
          "base_uri": "https://localhost:8080/"
        },
        "outputId": "2ea87543-b315-4426-de3f-f1472b0f2e15"
      },
      "execution_count": 28,
      "outputs": [
        {
          "output_type": "stream",
          "name": "stdout",
          "text": [
            "\n",
            "The execution time for this question is 14.30329704284668 seconds.\n"
          ]
        }
      ]
    },
    {
      "cell_type": "markdown",
      "source": [
        "**Bonus**"
      ],
      "metadata": {
        "id": "8BMCBtsQUp-c"
      }
    },
    {
      "cell_type": "code",
      "source": [
        "def keepMin(x):\n",
        "  if x[3]==log_RDD_Min:\n",
        "    return x"
      ],
      "metadata": {
        "id": "KO09SmGnQ3Mx"
      },
      "execution_count": 29,
      "outputs": []
    },
    {
      "cell_type": "code",
      "source": [
        "start = time.time()\n",
        "\n",
        "log_RDD_MinPages = log_RDD.filter(lambda x : keepMin(x))\n",
        "log_RDD_MinPages.take(10)\n",
        "\n",
        "end = time.time()\n",
        "\n",
        "print(\"\\nThe execution time for this question is \" + str(end-start) + \" seconds.\")"
      ],
      "metadata": {
        "id": "6iQFttReQ6k0",
        "colab": {
          "base_uri": "https://localhost:8080/"
        },
        "outputId": "e279484f-9ae4-4e91-ae8d-ec6bfc0c0f76"
      },
      "execution_count": 30,
      "outputs": [
        {
          "output_type": "stream",
          "name": "stdout",
          "text": [
            "\n",
            "The execution time for this question is 0.6598896980285645 seconds.\n"
          ]
        }
      ]
    },
    {
      "cell_type": "markdown",
      "source": [
        "# **Question n°5**"
      ],
      "metadata": {
        "id": "zkFs3ylUTa8O"
      }
    },
    {
      "cell_type": "code",
      "source": [
        "def keepMaxHits(x):\n",
        "  if x[2]==log_RDD_MaxHits:\n",
        "    return x"
      ],
      "metadata": {
        "id": "yEzaFHOIVLHM"
      },
      "execution_count": 31,
      "outputs": []
    },
    {
      "cell_type": "code",
      "source": [
        "start = time.time()\n",
        "\n",
        "print(\"Number of hits of the biggest page : \" + str(log_RDD_MaxPages.first().hits))\n",
        "\n",
        "log_RDD_MaxHitsDone = log_RDD.filter(lambda x : keepMaxHits(x))\n",
        "log_RDD_MaxHitsDone.take(10)\n",
        "\n",
        "end = time.time()\n",
        "\n",
        "print(\"\\nThe execution time for this question is \" + str(end-start) + \" seconds.\")"
      ],
      "metadata": {
        "id": "EOcXasb_Tdsc",
        "colab": {
          "base_uri": "https://localhost:8080/"
        },
        "outputId": "c358c859-b3a8-4388-b600-5ce5dc7232ae"
      },
      "execution_count": 32,
      "outputs": [
        {
          "output_type": "stream",
          "name": "stdout",
          "text": [
            "Number of hits of the biggest page :5466346\n",
            "\n",
            "The execution time for this question is 26.452588319778442 seconds.\n"
          ]
        }
      ]
    },
    {
      "cell_type": "markdown",
      "source": [
        "# **Question n°6**"
      ],
      "metadata": {
        "id": "tFl8HD5HVwuf"
      }
    },
    {
      "cell_type": "code",
      "source": [
        "def keepSupAverage(x):\n",
        "  if x[3]>log_RDD_Mean:\n",
        "    return x"
      ],
      "metadata": {
        "id": "SdsP5-NSV1c3"
      },
      "execution_count": 33,
      "outputs": []
    },
    {
      "cell_type": "code",
      "source": [
        "start = time.time()\n",
        "\n",
        "log_RDD_MaxPages = log_RDD.filter(lambda x : keepSupAverage(x))\n",
        "log_RDD_MaxPages.take(10)\n",
        "\n",
        "end = time.time()\n",
        "\n",
        "#print(\"\\nThe execution time for this question is \" + str(end-start) + \" seconds.\")"
      ],
      "metadata": {
        "id": "lAg07zVcV9qH",
        "colab": {
          "base_uri": "https://localhost:8080/"
        },
        "outputId": "e2c2c94c-50fd-4138-9862-a4adfb692d6d"
      },
      "execution_count": 36,
      "outputs": [
        {
          "output_type": "execute_result",
          "data": {
            "text/plain": [
              "[Row(project='aa', title='Main_Page', hits=5, size=266946),\n",
              " Row(project='ace.mw', title='ace', hits=31, size=827168),\n",
              " Row(project='af', title='1859', hits=4, size=219540),\n",
              " Row(project='af', title='18_Oktober', hits=4, size=264724),\n",
              " Row(project='af', title='1941', hits=4, size=256344),\n",
              " Row(project='af', title='2016', hits=5, size=215498),\n",
              " Row(project='af', title='4_Januarie', hits=4, size=268828),\n",
              " Row(project='af', title='Afrika-unie', hits=1, size=172078),\n",
              " Row(project='af', title='Big_Ben', hits=13, size=136201),\n",
              " Row(project='af', title='Comrades-maraton', hits=1, size=155180)]"
            ]
          },
          "metadata": {},
          "execution_count": 36
        }
      ]
    },
    {
      "cell_type": "markdown",
      "source": [
        "# **Question n°7**"
      ],
      "metadata": {
        "id": "YaEPAG6bW3q8"
      }
    },
    {
      "cell_type": "code",
      "source": [
        "start = time.time()\n",
        "\n",
        "log_RDD_HitsPerProject = log_RDD.map(lambda x : (x[0], x[2])).reduceByKey(lambda x, y : x+y).sortBy(lambda row : row[1], ascending=False)\n",
        "\n",
        "log_RDD_HitsPerProject.take(10)\n",
        "\n",
        "log_RDD_HitsPerPage = log_RDD.map(lambda x : (x[1], x[2])).reduceByKey(lambda x, y : x+y).sortBy(lambda row : row[1], ascending=False)\n",
        "\n",
        "log_RDD_HitsPerPage.take(5)\n",
        "\n",
        "end = time.time()\n",
        "\n",
        "print(\"\\nThe execution time for this question is \" + str(end-start) + \" seconds.\")"
      ],
      "metadata": {
        "id": "iQZfjkPyW59M",
        "colab": {
          "base_uri": "https://localhost:8080/"
        },
        "outputId": "0372e4ec-aef1-47d9-b573-0d98cf8d651a"
      },
      "execution_count": 37,
      "outputs": [
        {
          "output_type": "stream",
          "name": "stdout",
          "text": [
            "\n",
            "The execution time for this question is 59.74118137359619 seconds.\n"
          ]
        }
      ]
    },
    {
      "cell_type": "markdown",
      "source": [
        "# **Question n°8**"
      ],
      "metadata": {
        "id": "Ev5gugvebhIu"
      }
    },
    {
      "cell_type": "code",
      "source": [
        "##### Create the cleaning function\n",
        "\n",
        "def cleaningFunc(text):\n",
        "  text = text.lower()\n",
        "  translator = text.maketrans(string.punctuation,\"_\" * len(string.punctuation))\n",
        "  text = text.translate(translator)\n",
        "  text = text.split(\"_\")\n",
        "  return text"
      ],
      "metadata": {
        "id": "q_AdfThbcptI"
      },
      "execution_count": 38,
      "outputs": []
    },
    {
      "cell_type": "code",
      "source": [
        "tst = \"Requests_for.new:languages/Wikipedia-Banyumasan\"\n",
        "print(cleaningFunc(tst))"
      ],
      "metadata": {
        "id": "_b44bAbVvfVi",
        "colab": {
          "base_uri": "https://localhost:8080/"
        },
        "outputId": "0e555fa1-0f83-4829-d2bf-7900c3242374"
      },
      "execution_count": 39,
      "outputs": [
        {
          "output_type": "stream",
          "name": "stdout",
          "text": [
            "['requests', 'for', 'new', 'languages', 'wikipedia', 'banyumasan']\n"
          ]
        }
      ]
    },
    {
      "cell_type": "code",
      "source": [
        "start = time.time()\n",
        "\n",
        "log_RDD_PageName2 = log_RDD.flatMap(lambda x : cleaningFunc(x[1])) #unfold the table\n",
        "\n",
        "log_RDD_PageNameWordOnly = log_RDD_PageName2.filter(lambda x: x.isalpha()).map(lambda x : (x, 1))\n",
        "\n",
        "log_RDD_PageNameWithOccurences = log_RDD_PageNameWordOnly.reduceByKey(lambda x, y : x+y)\n",
        "\n",
        "log_RDD_Page_UniqueWord = log_RDD_PageNameWithOccurences.filter(lambda x : x[1]==1).map(lambda x : x[0])\n",
        "\n",
        "log_RDD_Page_UniqueWord.take(10)\n",
        "\n",
        "end = time.time()\n",
        "\n",
        "print(\"\\nThe execution time for this question is \" + str(end-start) + \" seconds.\")"
      ],
      "metadata": {
        "id": "3OQDwZyqc6Nf",
        "colab": {
          "base_uri": "https://localhost:8080/"
        },
        "outputId": "550ea9d3-e027-4887-d3d8-d7f87685b32f"
      },
      "execution_count": 40,
      "outputs": [
        {
          "output_type": "stream",
          "name": "stdout",
          "text": [
            "\n",
            "The execution time for this question is 40.317625284194946 seconds.\n"
          ]
        }
      ]
    },
    {
      "cell_type": "markdown",
      "source": [
        "# **Question n°9**"
      ],
      "metadata": {
        "id": "5DgKE5Rf2tBr"
      }
    },
    {
      "cell_type": "code",
      "source": [
        "start = time.time()\n",
        "\n",
        "log_TitleName_Ordered = log_RDD_PageNameWithOccurences.sortBy(lambda row : row[1], ascending=False)\n",
        "\n",
        "log_TitleName_Ordered.first()\n",
        "\n",
        "end = time.time()\n",
        "\n",
        "print(\"\\nThe execution time for this question is \" + str(end-start) + \" seconds.\")"
      ],
      "metadata": {
        "id": "FedTG8X81j-Q",
        "colab": {
          "base_uri": "https://localhost:8080/"
        },
        "outputId": "fa5a942c-70f8-46d9-bfdc-9d23b1f33ed3"
      },
      "execution_count": 41,
      "outputs": [
        {
          "output_type": "stream",
          "name": "stdout",
          "text": [
            "\n",
            "The execution time for this question is 5.237361669540405 seconds.\n"
          ]
        }
      ]
    },
    {
      "cell_type": "markdown",
      "source": [
        "---\n",
        "# **Exercise n°2: Query Web Logs with Spark SQL**\n",
        "\n",
        "\n",
        "\n"
      ],
      "metadata": {
        "id": "gEFDDu1mp8LO"
      }
    },
    {
      "cell_type": "code",
      "source": [
        "wiki_DF.show()"
      ],
      "metadata": {
        "id": "sT3-iGNqp7Xl",
        "colab": {
          "base_uri": "https://localhost:8080/"
        },
        "outputId": "7432db9c-2434-4850-8fb4-635323c690c3"
      },
      "execution_count": null,
      "outputs": [
        {
          "output_type": "stream",
          "name": "stdout",
          "text": [
            "+-------+--------------------+---------+---------+\n",
            "|Project|          Page_title|Page_hits|Page_size|\n",
            "+-------+--------------------+---------+---------+\n",
            "|     aa|             271_a.C|        1|     4675|\n",
            "|     aa|    Category:User_th|        1|     4770|\n",
            "|     aa|  Chiron_Elias_Krase|        1|     4694|\n",
            "|     aa|    Dassault_rafaele|        2|     9372|\n",
            "|     aa|              E.Desv|        1|     4662|\n",
            "|     aa|File:Wiktionary-l...|        1|    10752|\n",
            "|     aa|Indonesian_Wikipedia|        1|     4679|\n",
            "|     aa|           Main_Page|        5|   266946|\n",
            "|     aa|Requests_for_new_...|        1|     4733|\n",
            "|     aa|Special:Contribut...|        1|     5812|\n",
            "|     aa|Special:Contribut...|        1|     5805|\n",
            "|     aa|Special:Contribut...|        1|     5808|\n",
            "|     aa|Special:Contribut...|        1|     5812|\n",
            "|     aa|Special:ListFiles...|        1|     5035|\n",
            "|     aa|Special:ListFiles...|        1|     5036|\n",
            "|     aa|Special:ListFiles...|        1|     5032|\n",
            "|     aa|Special:Log/Md._F...|        1|     5529|\n",
            "|     aa|Special:Log/MikeL...|        1|     5368|\n",
            "|     aa|Special:MyLanguag...|        1|     4701|\n",
            "|     aa|Special:RecentCha...|        1|     6152|\n",
            "+-------+--------------------+---------+---------+\n",
            "only showing top 20 rows\n",
            "\n"
          ]
        }
      ]
    },
    {
      "cell_type": "markdown",
      "source": [
        "# **Question n°3 bis**"
      ],
      "metadata": {
        "id": "rcXU17zSrwFW"
      }
    },
    {
      "cell_type": "code",
      "source": [
        "start = time.time()\n",
        "\n",
        "wiki_DF.select(max(\"Page_size\")).show()\n",
        "wiki_DF.select(min(\"Page_size\")).show()\n",
        "wiki_DF.select(mean(\"Page_size\")).show()\n",
        "\n",
        "end = time.time()\n",
        "\n",
        "print(\"\\nThe execution time for this question is \" + str(end-start) + \" seconds.\")"
      ],
      "metadata": {
        "id": "5QEnPGU6qr8N",
        "colab": {
          "base_uri": "https://localhost:8080/"
        },
        "outputId": "d3270707-75ec-4b7e-c7e0-88069366b975"
      },
      "execution_count": 42,
      "outputs": [
        {
          "output_type": "stream",
          "name": "stdout",
          "text": [
            "+--------------+\n",
            "|max(Page_size)|\n",
            "+--------------+\n",
            "|  141180155987|\n",
            "+--------------+\n",
            "\n",
            "+--------------+\n",
            "|min(Page_size)|\n",
            "+--------------+\n",
            "|             0|\n",
            "+--------------+\n",
            "\n",
            "+------------------+\n",
            "|    avg(Page_size)|\n",
            "+------------------+\n",
            "|132239.56957446598|\n",
            "+------------------+\n",
            "\n",
            "\n",
            "The execution time for this question is 44.020508766174316 seconds.\n"
          ]
        }
      ]
    },
    {
      "cell_type": "markdown",
      "source": [
        "# **Question n°5 bis**"
      ],
      "metadata": {
        "id": "KgKAJCSqr1Ae"
      }
    },
    {
      "cell_type": "code",
      "source": [
        "maxDF = wiki_DF.select(max(\"Page_size\")).collect()[0][0]\n",
        "minDF = wiki_DF.select(min(\"Page_size\")).collect()[0][0]\n",
        "meanDF = wiki_DF.select(mean(\"Page_size\")).collect()[0][0]"
      ],
      "metadata": {
        "id": "MqthJ3vesdxo"
      },
      "execution_count": 44,
      "outputs": []
    },
    {
      "cell_type": "code",
      "source": [
        "start = time.time()\n",
        "\n",
        "wiki_DF_MaxPages = wiki_DF.filter(wiki_DF.Page_size==maxDF)\n",
        "wiki_DF_MaxPages.show()\n",
        "\n",
        "maxHitsDF = wiki_DF.select(max(\"Page_hits\")).collect()[0][0]\n",
        "\n",
        "print(maxHitsDF)\n",
        "\n",
        "wiki_DF_MaxHits = wiki_DF.filter(wiki_DF.Page_hits==maxHitsDF)\n",
        "\n",
        "wiki_DF_MaxHits.show()\n",
        "\n",
        "end = time.time()\n",
        "\n",
        "print(\"\\nThe execution time for this question is \" + str(end-start) + \" seconds.\")"
      ],
      "metadata": {
        "id": "Dxi1KgSouB1A",
        "colab": {
          "base_uri": "https://localhost:8080/"
        },
        "outputId": "7b06e0f8-7362-4ed3-a520-49fd699e35a9"
      },
      "execution_count": 45,
      "outputs": [
        {
          "output_type": "stream",
          "name": "stdout",
          "text": [
            "+-------+----------+---------+------------+\n",
            "|Project|Page_title|Page_hits|   Page_size|\n",
            "+-------+----------+---------+------------+\n",
            "|  en.mw|        en|  5466346|141180155987|\n",
            "+-------+----------+---------+------------+\n",
            "\n",
            "5466346\n",
            "+-------+----------+---------+------------+\n",
            "|Project|Page_title|Page_hits|   Page_size|\n",
            "+-------+----------+---------+------------+\n",
            "|  en.mw|        en|  5466346|141180155987|\n",
            "+-------+----------+---------+------------+\n",
            "\n",
            "\n",
            "The execution time for this question is 41.051405906677246 seconds.\n"
          ]
        }
      ]
    },
    {
      "cell_type": "markdown",
      "source": [
        "**Bonus**"
      ],
      "metadata": {
        "id": "W5a7KMRFX5KK"
      }
    },
    {
      "cell_type": "code",
      "source": [
        "start = time.time()\n",
        "\n",
        "wiki_DF_MinPages = wiki_DF.filter(wiki_DF.Page_size==minDF)\n",
        "\n",
        "wiki_DF_MinPages.show()\n",
        "\n",
        "end = time.time()\n",
        "\n",
        "print(\"\\nThe execution time for this question is \" + str(end-start) + \" seconds.\")"
      ],
      "metadata": {
        "id": "azBlspuGu80w",
        "colab": {
          "base_uri": "https://localhost:8080/"
        },
        "outputId": "fe082eb5-b026-4ea2-f4c2-6676bb2db8b0"
      },
      "execution_count": 46,
      "outputs": [
        {
          "output_type": "stream",
          "name": "stdout",
          "text": [
            "+-------+--------------------+---------+---------+\n",
            "|Project|          Page_title|Page_hits|Page_size|\n",
            "+-------+--------------------+---------+---------+\n",
            "|     af|                1337|        1|        0|\n",
            "|     af|                1433|        1|        0|\n",
            "|     af|                1498|        1|        0|\n",
            "|     af|                1577|        1|        0|\n",
            "|     af|                1864|        1|        0|\n",
            "|     af|                 689|        1|        0|\n",
            "|     af|    Clifton-hangbrug|        1|        0|\n",
            "|     af|      Die_Transvaler|        1|        0|\n",
            "|     af|     Griekse_oergode|        1|        0|\n",
            "|     af| Kategorie:22ste_eeu|        1|        0|\n",
            "|     af|Kategorie:Geograf...|        2|        0|\n",
            "|     af|Kategorie:Middeld...|        1|        0|\n",
            "|     af|  Kategorie:Politiek|        2|        0|\n",
            "|     af|             Lapland|        2|        0|\n",
            "|     af|             Oktober|        1|        0|\n",
            "|     af|Sjabloon:Susterpr...|        2|        0|\n",
            "|     af|             Skrywer|        1|        0|\n",
            "|     af|Unie_van_Suid-Afrika|        2|        0|\n",
            "|     af|Wikipedia:Kernart...|        2|        0|\n",
            "|     ak|Mentarimedia_Webi...|        1|        0|\n",
            "+-------+--------------------+---------+---------+\n",
            "only showing top 20 rows\n",
            "\n",
            "\n",
            "The execution time for this question is 4.211999893188477 seconds.\n"
          ]
        }
      ]
    },
    {
      "cell_type": "markdown",
      "source": [
        "# **Question n°6 bis**"
      ],
      "metadata": {
        "id": "G57gHa6QxBCh"
      }
    },
    {
      "cell_type": "code",
      "source": [
        "start = time.time()\n",
        "\n",
        "wiki_DF_AboveAverage = wiki_DF.filter(wiki_DF.Page_size>meanDF)\n",
        "wiki_DF_AboveAverage.show(10)\n",
        "\n",
        "end = time.time()\n",
        "\n",
        "print(\"\\nThe execution time for this question is \" + str(end-start) + \" seconds.\")"
      ],
      "metadata": {
        "id": "UHHT4C1KvE14",
        "colab": {
          "base_uri": "https://localhost:8080/"
        },
        "outputId": "3650d445-1ddf-4634-a13a-d9b2151186c5"
      },
      "execution_count": 47,
      "outputs": [
        {
          "output_type": "stream",
          "name": "stdout",
          "text": [
            "+-------+----------------+---------+---------+\n",
            "|Project|      Page_title|Page_hits|Page_size|\n",
            "+-------+----------------+---------+---------+\n",
            "|     aa|       Main_Page|        5|   266946|\n",
            "| ace.mw|             ace|       31|   827168|\n",
            "|     af|            1859|        4|   219540|\n",
            "|     af|      18_Oktober|        4|   264724|\n",
            "|     af|            1941|        4|   256344|\n",
            "|     af|            2016|        5|   215498|\n",
            "|     af|      4_Januarie|        4|   268828|\n",
            "|     af|     Afrika-unie|        1|   172078|\n",
            "|     af|         Big_Ben|       13|   136201|\n",
            "|     af|Comrades-maraton|        1|   155180|\n",
            "+-------+----------------+---------+---------+\n",
            "only showing top 10 rows\n",
            "\n",
            "\n",
            "The execution time for this question is 4.191070556640625 seconds.\n"
          ]
        }
      ]
    },
    {
      "cell_type": "markdown",
      "source": [
        "# **Question n°8 bis**"
      ],
      "metadata": {
        "id": "LyOpDTlo2w9T"
      }
    },
    {
      "cell_type": "code",
      "source": [
        "start = time.time()\n",
        "\n",
        "# define with udf a function applicable on a dataframe\n",
        "clean_udf = udf(cleaningFunc, ArrayType(StringType()))\n",
        "\n",
        "# we apply our new cleaning function to the title_page column\n",
        "cleaned_DF = wiki_DF.withColumn(\"words\", clean_udf(wiki_DF[\"Page_title\"]))\n",
        "\n",
        "# explode: equivalent to flatMap but for dataframe\n",
        "exploded_DF = cleaned_DF.select(explode(cleaned_DF[\"words\"]).alias(\"word\"))\n",
        "\n",
        "# we filter to keep only lowercase words\n",
        "filtered_DF = exploded_DF.filter(regexp_extract(exploded_DF[\"word\"], r\"[a-z]+\", 0) != \"\")\n",
        "\n",
        "# only words that appear once are kept\n",
        "unique_words_DF = filtered_DF.select(\"word\").distinct()\n",
        "\n",
        "# on affiche\n",
        "unique_words_DF.show()\n",
        "\n",
        "end = time.time()\n",
        "\n",
        "print(\"\\nThe execution time for this question is \" + str(end-start) + \" seconds.\")"
      ],
      "metadata": {
        "colab": {
          "base_uri": "https://localhost:8080/"
        },
        "id": "fV53DUP_Iz20",
        "outputId": "cdc57661-6a56-4ffd-ae47-bd6d7827211e"
      },
      "execution_count": 48,
      "outputs": [
        {
          "output_type": "stream",
          "name": "stdout",
          "text": [
            "+----------+\n",
            "|      word|\n",
            "+----------+\n",
            "|    trotus|\n",
            "|     oscar|\n",
            "|    harder|\n",
            "|    morant|\n",
            "|  cheyenne|\n",
            "|    petrie|\n",
            "|     pools|\n",
            "|  guernsey|\n",
            "|   serebro|\n",
            "|     fijru|\n",
            "|    toegra|\n",
            "|     turks|\n",
            "|    welkom|\n",
            "|       art|\n",
            "|  heinrich|\n",
            "|      elsa|\n",
            "|     monte|\n",
            "|occidental|\n",
            "|   familia|\n",
            "|shevchenko|\n",
            "+----------+\n",
            "only showing top 20 rows\n",
            "\n",
            "\n",
            "The execution time for this question is 68.49304986000061 seconds.\n"
          ]
        }
      ]
    },
    {
      "cell_type": "markdown",
      "source": [
        "# **Bonus : Question n°9 bis**"
      ],
      "metadata": {
        "id": "ZnNhR-N_O37B"
      }
    },
    {
      "cell_type": "code",
      "source": [
        "start=time.time()\n",
        "\n",
        "# count() creates a new \"count\" column with the number of repetitions of the words in the \"word\" column\n",
        "count_DF = filtered_DF.groupBy(\"word\").count()\n",
        "\n",
        "# we order in descending order of the count and display the first line\n",
        "most_frequent_word = count_DF.orderBy(desc(\"count\")).first()\n",
        "\n",
        "print(most_frequent_word)\n",
        "\n",
        "end = time.time()\n",
        "\n",
        "print(\"\\nThe execution time for this question is \" + str(end-start) + \" seconds.\")"
      ],
      "metadata": {
        "colab": {
          "base_uri": "https://localhost:8080/"
        },
        "id": "NOpBCtqtPGTr",
        "outputId": "2357fda5-cb41-42b1-ef60-69a3d0f2cd6d"
      },
      "execution_count": 49,
      "outputs": [
        {
          "output_type": "stream",
          "name": "stdout",
          "text": [
            "Row(word='special', count=253531)\n",
            "\n",
            "The execution time for this question is 66.9534637928009 seconds.\n"
          ]
        }
      ]
    }
  ]
}