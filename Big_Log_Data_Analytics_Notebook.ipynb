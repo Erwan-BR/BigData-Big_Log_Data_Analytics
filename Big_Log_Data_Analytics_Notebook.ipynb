{
  "nbformat": 4,
  "nbformat_minor": 0,
  "metadata": {
    "colab": {
      "provenance": []
    },
    "kernelspec": {
      "name": "python3",
      "display_name": "Python 3"
    },
    "language_info": {
      "name": "python"
    }
  },
  "cells": [
    {
      "cell_type": "markdown",
      "source": [
        "# **Préambule**"
      ],
      "metadata": {
        "id": "ijGoc5u_lhFu"
      }
    },
    {
      "cell_type": "code",
      "source": [
        "!apt-get install openjdk-8-jdk-headless -qq > /dev/null"
      ],
      "metadata": {
        "id": "qpGjYAqyljlt"
      },
      "execution_count": 205,
      "outputs": []
    },
    {
      "cell_type": "code",
      "source": [
        "!wget -q https://downloads.apache.org/spark/spark-3.2.3/spark-3.2.3-bin-hadoop3.2.tgz"
      ],
      "metadata": {
        "id": "wAbXtp3Mlpbo"
      },
      "execution_count": 206,
      "outputs": []
    },
    {
      "cell_type": "code",
      "source": [
        "!tar xf spark-3.2.3-bin-hadoop3.2.tgz"
      ],
      "metadata": {
        "id": "UhLxg2-olun_"
      },
      "execution_count": 207,
      "outputs": []
    },
    {
      "cell_type": "code",
      "source": [
        "import os\n",
        "os.environ[\"JAVA_HOME\"] = \"/usr/lib/jvm/java-8-openjdk-amd64\"\n",
        "os.environ[\"SPARK_HOME\"] = \"/content/spark-3.2.3-bin-hadoop3.2\"\n",
        "import sys"
      ],
      "metadata": {
        "id": "lkTtUIshlwiK"
      },
      "execution_count": 208,
      "outputs": []
    },
    {
      "cell_type": "code",
      "source": [
        "!pip install pyspark==3.2.3"
      ],
      "metadata": {
        "colab": {
          "base_uri": "https://localhost:8080/"
        },
        "id": "Siqx0eeflyq3",
        "outputId": "97b3f65d-6dfa-4082-ee2d-5a896aa4056b"
      },
      "execution_count": 209,
      "outputs": [
        {
          "output_type": "stream",
          "name": "stdout",
          "text": [
            "Looking in indexes: https://pypi.org/simple, https://us-python.pkg.dev/colab-wheels/public/simple/\n",
            "Requirement already satisfied: pyspark==3.2.3 in /usr/local/lib/python3.8/dist-packages (3.2.3)\n",
            "Requirement already satisfied: py4j==0.10.9.5 in /usr/local/lib/python3.8/dist-packages (from pyspark==3.2.3) (0.10.9.5)\n"
          ]
        }
      ]
    },
    {
      "cell_type": "code",
      "source": [
        "#import findspark\n",
        "#findspark.init()\n",
        "from pyspark.sql import SparkSession\n",
        "from pyspark.conf import SparkConf\n",
        "from pyspark.sql.functions import *"
      ],
      "metadata": {
        "id": "lDEJXYk4l8tN"
      },
      "execution_count": 210,
      "outputs": []
    },
    {
      "cell_type": "code",
      "source": [
        "# Check the pyspark version\n",
        "import pyspark\n",
        "print(pyspark.__version__)"
      ],
      "metadata": {
        "colab": {
          "base_uri": "https://localhost:8080/"
        },
        "id": "fX-T_rMUl_zd",
        "outputId": "4b75cdcf-bef6-4d11-eb31-87f53b1baf73"
      },
      "execution_count": 211,
      "outputs": [
        {
          "output_type": "stream",
          "name": "stdout",
          "text": [
            "3.2.3\n"
          ]
        }
      ]
    },
    {
      "cell_type": "code",
      "source": [
        "spark = SparkSession.builder.master(\"local[*]\").appName(\"MyFirstProgram\").getOrCreate()\n",
        "sc=spark.sparkContext\n",
        "\n",
        "# Test the spark\n",
        "df = spark.createDataFrame([{\"hello\": \"world\"} for x in range(1000)])\n",
        "df.show(3, False)"
      ],
      "metadata": {
        "colab": {
          "base_uri": "https://localhost:8080/"
        },
        "id": "whEeBw0HmEdN",
        "outputId": "b2f4cf96-c25a-4335-f852-61b33eb2fbd9"
      },
      "execution_count": 212,
      "outputs": [
        {
          "output_type": "stream",
          "name": "stdout",
          "text": [
            "+-----+\n",
            "|hello|\n",
            "+-----+\n",
            "|world|\n",
            "|world|\n",
            "|world|\n",
            "+-----+\n",
            "only showing top 3 rows\n",
            "\n"
          ]
        }
      ]
    },
    {
      "cell_type": "markdown",
      "source": [
        "\n",
        "\n",
        "---\n",
        "\n",
        "\n",
        "# **Import**"
      ],
      "metadata": {
        "id": "P8eMZw9OfYOT"
      }
    },
    {
      "cell_type": "code",
      "source": [
        "# import for exercise 0\n",
        "\n",
        "import zipfile\n",
        "from google.colab import drive\n",
        "\n",
        "# import for exercise 1\n",
        "\n",
        "from pyspark import SparkFiles\n",
        "from pyspark.sql.types import StructType, StructField, IntegerType, StringType\n",
        "from pyspark.sql import Row\n",
        "import re\n",
        "import string\n",
        "\n",
        "# import for exercise 2\n",
        "\n",
        "from pyspark.sql.types import *"
      ],
      "metadata": {
        "id": "NiO0nfSYfXbI"
      },
      "execution_count": 213,
      "outputs": []
    },
    {
      "cell_type": "markdown",
      "source": [
        "\n",
        "\n",
        "---\n",
        "\n",
        "\n",
        "# **Exercise n°0: Download and Prepare your Log File**"
      ],
      "metadata": {
        "id": "j5DxD6vKppcO"
      }
    },
    {
      "cell_type": "code",
      "source": [
        "drive.mount('/content/drive')\n",
        "!apt install unzip\n",
        "!unzip -u \"/content/drive/MyDrive/Colab_Notebooks/Big_Data/TP2/pagecounts-20160101-000000_parsed.out.zip\" -d \"/content/drive/MyDrive/Colab_Notebooks/Big_Data/TP2/\""
      ],
      "metadata": {
        "id": "YkT_oqWDmT9G",
        "colab": {
          "base_uri": "https://localhost:8080/"
        },
        "outputId": "73d72300-67fa-4542-a173-91cbffbf2e2a"
      },
      "execution_count": 214,
      "outputs": [
        {
          "output_type": "stream",
          "name": "stdout",
          "text": [
            "Drive already mounted at /content/drive; to attempt to forcibly remount, call drive.mount(\"/content/drive\", force_remount=True).\n",
            "Reading package lists... Done\n",
            "Building dependency tree       \n",
            "Reading state information... Done\n",
            "unzip is already the newest version (6.0-25ubuntu1.1).\n",
            "The following package was automatically installed and is no longer required:\n",
            "  libnvidia-common-510\n",
            "Use 'apt autoremove' to remove it.\n",
            "0 upgraded, 0 newly installed, 0 to remove and 21 not upgraded.\n",
            "Archive:  /content/drive/MyDrive/Colab_Notebooks/Big_Data/TP2/pagecounts-20160101-000000_parsed.out.zip\n"
          ]
        }
      ]
    },
    {
      "cell_type": "code",
      "source": [
        "wiki_url = \"/content/drive/MyDrive/Colab_Notebooks/Big_Data/TP2/pagecounts-20160101-000000_parsed.out\"\n",
        "spark.sparkContext.addFile(wiki_url)\n",
        "wiki_RDD_v1 = sc.textFile(SparkFiles.get(\"pagecounts-20160101-000000_parsed.out\"))"
      ],
      "metadata": {
        "id": "2cyWIg5Kj_uV"
      },
      "execution_count": 215,
      "outputs": []
    },
    {
      "cell_type": "code",
      "source": [
        "wiki_RDD_v1.take(10)"
      ],
      "metadata": {
        "id": "h3Bs0xiilFK2",
        "colab": {
          "base_uri": "https://localhost:8080/"
        },
        "outputId": "7538b264-b350-40fc-8b03-337af4b7a60d"
      },
      "execution_count": 216,
      "outputs": [
        {
          "output_type": "execute_result",
          "data": {
            "text/plain": [
              "['aa 271_a.C 1 4675',\n",
              " 'aa Category:User_th 1 4770',\n",
              " 'aa Chiron_Elias_Krase 1 4694',\n",
              " 'aa Dassault_rafaele 2 9372',\n",
              " 'aa E.Desv 1 4662',\n",
              " 'aa File:Wiktionary-logo-en.png 1 10752',\n",
              " 'aa Indonesian_Wikipedia 1 4679',\n",
              " 'aa Main_Page 5 266946',\n",
              " 'aa Requests_for_new_languages/Wikipedia_Banyumasan 1 4733',\n",
              " 'aa Special:Contributions/203.144.160.245 1 5812']"
            ]
          },
          "metadata": {},
          "execution_count": 216
        }
      ]
    },
    {
      "cell_type": "code",
      "source": [
        "def separe_elements(ligne):\n",
        "    elements = ligne.split(\" \")\n",
        "    return (elements[0], elements[1], int(elements[2]), int(elements[3]))"
      ],
      "metadata": {
        "id": "5F8qALo6lIn7"
      },
      "execution_count": 217,
      "outputs": []
    },
    {
      "cell_type": "code",
      "source": [
        "wiki_RDD = wiki_RDD_v1.map(lambda word : separe_elements(word))"
      ],
      "metadata": {
        "id": "oZQsf_C9lMN5"
      },
      "execution_count": 218,
      "outputs": []
    },
    {
      "cell_type": "code",
      "source": [
        "wiki_RDD.take(10)"
      ],
      "metadata": {
        "id": "qat1Gu_hlRFZ",
        "colab": {
          "base_uri": "https://localhost:8080/"
        },
        "outputId": "8d2e5bc0-22ef-47d0-a80f-2c589bd7a480"
      },
      "execution_count": 219,
      "outputs": [
        {
          "output_type": "execute_result",
          "data": {
            "text/plain": [
              "[('aa', '271_a.C', 1, 4675),\n",
              " ('aa', 'Category:User_th', 1, 4770),\n",
              " ('aa', 'Chiron_Elias_Krase', 1, 4694),\n",
              " ('aa', 'Dassault_rafaele', 2, 9372),\n",
              " ('aa', 'E.Desv', 1, 4662),\n",
              " ('aa', 'File:Wiktionary-logo-en.png', 1, 10752),\n",
              " ('aa', 'Indonesian_Wikipedia', 1, 4679),\n",
              " ('aa', 'Main_Page', 5, 266946),\n",
              " ('aa', 'Requests_for_new_languages/Wikipedia_Banyumasan', 1, 4733),\n",
              " ('aa', 'Special:Contributions/203.144.160.245', 1, 5812)]"
            ]
          },
          "metadata": {},
          "execution_count": 219
        }
      ]
    },
    {
      "cell_type": "code",
      "source": [
        "columns = [\"Project\", \"Page_title\",\"Page_hits\",\"Page_size\"]\n",
        "wiki_DF = spark.createDataFrame(wiki_RDD,columns)  "
      ],
      "metadata": {
        "id": "BvrE0tGTlTVS"
      },
      "execution_count": 220,
      "outputs": []
    },
    {
      "cell_type": "code",
      "source": [
        "wiki_DF.show()"
      ],
      "metadata": {
        "id": "htKVpWGClYJa",
        "colab": {
          "base_uri": "https://localhost:8080/"
        },
        "outputId": "6e0c9b10-83bc-41df-ab79-217eca09f3f6"
      },
      "execution_count": 221,
      "outputs": [
        {
          "output_type": "stream",
          "name": "stdout",
          "text": [
            "+-------+--------------------+---------+---------+\n",
            "|Project|          Page_title|Page_hits|Page_size|\n",
            "+-------+--------------------+---------+---------+\n",
            "|     aa|             271_a.C|        1|     4675|\n",
            "|     aa|    Category:User_th|        1|     4770|\n",
            "|     aa|  Chiron_Elias_Krase|        1|     4694|\n",
            "|     aa|    Dassault_rafaele|        2|     9372|\n",
            "|     aa|              E.Desv|        1|     4662|\n",
            "|     aa|File:Wiktionary-l...|        1|    10752|\n",
            "|     aa|Indonesian_Wikipedia|        1|     4679|\n",
            "|     aa|           Main_Page|        5|   266946|\n",
            "|     aa|Requests_for_new_...|        1|     4733|\n",
            "|     aa|Special:Contribut...|        1|     5812|\n",
            "|     aa|Special:Contribut...|        1|     5805|\n",
            "|     aa|Special:Contribut...|        1|     5808|\n",
            "|     aa|Special:Contribut...|        1|     5812|\n",
            "|     aa|Special:ListFiles...|        1|     5035|\n",
            "|     aa|Special:ListFiles...|        1|     5036|\n",
            "|     aa|Special:ListFiles...|        1|     5032|\n",
            "|     aa|Special:Log/Md._F...|        1|     5529|\n",
            "|     aa|Special:Log/MikeL...|        1|     5368|\n",
            "|     aa|Special:MyLanguag...|        1|     4701|\n",
            "|     aa|Special:RecentCha...|        1|     6152|\n",
            "+-------+--------------------+---------+---------+\n",
            "only showing top 20 rows\n",
            "\n"
          ]
        }
      ]
    },
    {
      "cell_type": "markdown",
      "source": [
        "---\n",
        "# **Exercise n°1 : Explore Web Logs with Spark RDDs**\n"
      ],
      "metadata": {
        "id": "yYZW6GexAlyA"
      }
    },
    {
      "cell_type": "code",
      "source": [
        "Log = StructType([\n",
        "    StructField(\"project\", StringType(), True),\n",
        "    StructField(\"title\", StringType(), True),\n",
        "    StructField(\"hits\", IntegerType(), True),\n",
        "    StructField(\"size\", IntegerType(), True)\n",
        "])"
      ],
      "metadata": {
        "id": "b3yAbvWjAw5d"
      },
      "execution_count": 222,
      "outputs": []
    },
    {
      "cell_type": "code",
      "source": [
        "def separe_elements(ligne):\n",
        "    elements = ligne.split(\" \")\n",
        "    LogEx = Row(project=elements[0], title=elements[1], hits=int(elements[2]), size=int(elements[3]))\n",
        "    return LogEx"
      ],
      "metadata": {
        "id": "AVpQZZt7DZbF"
      },
      "execution_count": 223,
      "outputs": []
    },
    {
      "cell_type": "code",
      "source": [
        "log_RDD = wiki_RDD_v1.map(lambda word : separe_elements(word))"
      ],
      "metadata": {
        "id": "S0WfUEEfDdFT"
      },
      "execution_count": 224,
      "outputs": []
    },
    {
      "cell_type": "code",
      "source": [
        "log_RDD.take(10)"
      ],
      "metadata": {
        "id": "ALwsaQrdDfiK",
        "colab": {
          "base_uri": "https://localhost:8080/"
        },
        "outputId": "d769af62-50db-4c55-8541-20aeff39f28e"
      },
      "execution_count": 225,
      "outputs": [
        {
          "output_type": "execute_result",
          "data": {
            "text/plain": [
              "[Row(project='aa', title='271_a.C', hits=1, size=4675),\n",
              " Row(project='aa', title='Category:User_th', hits=1, size=4770),\n",
              " Row(project='aa', title='Chiron_Elias_Krase', hits=1, size=4694),\n",
              " Row(project='aa', title='Dassault_rafaele', hits=2, size=9372),\n",
              " Row(project='aa', title='E.Desv', hits=1, size=4662),\n",
              " Row(project='aa', title='File:Wiktionary-logo-en.png', hits=1, size=10752),\n",
              " Row(project='aa', title='Indonesian_Wikipedia', hits=1, size=4679),\n",
              " Row(project='aa', title='Main_Page', hits=5, size=266946),\n",
              " Row(project='aa', title='Requests_for_new_languages/Wikipedia_Banyumasan', hits=1, size=4733),\n",
              " Row(project='aa', title='Special:Contributions/203.144.160.245', hits=1, size=5812)]"
            ]
          },
          "metadata": {},
          "execution_count": 225
        }
      ]
    },
    {
      "cell_type": "code",
      "source": [
        "log_RDD_Thirdline = log_RDD.take(3)[-1]\n",
        "\n",
        "print(log_RDD_Thirdline.project)\n",
        "print(log_RDD_Thirdline.title)\n",
        "print(log_RDD_Thirdline.hits)\n",
        "print(log_RDD_Thirdline.size)"
      ],
      "metadata": {
        "id": "Trj1DXOYDh_r",
        "colab": {
          "base_uri": "https://localhost:8080/"
        },
        "outputId": "fb8c9a66-bec9-44ab-84ca-c2871440996e"
      },
      "execution_count": 226,
      "outputs": [
        {
          "output_type": "stream",
          "name": "stdout",
          "text": [
            "aa\n",
            "Chiron_Elias_Krase\n",
            "1\n",
            "4694\n"
          ]
        }
      ]
    },
    {
      "cell_type": "markdown",
      "source": [
        "# **Question n°1 :**"
      ],
      "metadata": {
        "id": "DtFoFyQODFb6"
      }
    },
    {
      "cell_type": "code",
      "source": [
        "def print_record(rdd, number):\n",
        "  myLine = rdd.take(number)[-1]\n",
        "  print(\"Project code: \" + myLine.project + \"\\t Page: \" + myLine.title + \"\\t Page hits: \" + str(myLine.hits) + \"\\t Page size: \" + str(myLine.size))"
      ],
      "metadata": {
        "id": "yrp98ZjtDEAy"
      },
      "execution_count": 227,
      "outputs": []
    },
    {
      "cell_type": "code",
      "source": [
        "for i in range(1,21):\n",
        "  print_record(log_RDD, i)"
      ],
      "metadata": {
        "id": "OS0fpeDfEa06",
        "colab": {
          "base_uri": "https://localhost:8080/"
        },
        "outputId": "574c5a97-d996-4002-e854-c59c6111f913"
      },
      "execution_count": 228,
      "outputs": [
        {
          "output_type": "stream",
          "name": "stdout",
          "text": [
            "Project code: aa\t Page: 271_a.C\t Page hits: 1\t Page size: 4675\n",
            "Project code: aa\t Page: Category:User_th\t Page hits: 1\t Page size: 4770\n",
            "Project code: aa\t Page: Chiron_Elias_Krase\t Page hits: 1\t Page size: 4694\n",
            "Project code: aa\t Page: Dassault_rafaele\t Page hits: 2\t Page size: 9372\n",
            "Project code: aa\t Page: E.Desv\t Page hits: 1\t Page size: 4662\n",
            "Project code: aa\t Page: File:Wiktionary-logo-en.png\t Page hits: 1\t Page size: 10752\n",
            "Project code: aa\t Page: Indonesian_Wikipedia\t Page hits: 1\t Page size: 4679\n",
            "Project code: aa\t Page: Main_Page\t Page hits: 5\t Page size: 266946\n",
            "Project code: aa\t Page: Requests_for_new_languages/Wikipedia_Banyumasan\t Page hits: 1\t Page size: 4733\n",
            "Project code: aa\t Page: Special:Contributions/203.144.160.245\t Page hits: 1\t Page size: 5812\n",
            "Project code: aa\t Page: Special:Contributions/5.232.61.79\t Page hits: 1\t Page size: 5805\n",
            "Project code: aa\t Page: Special:Contributions/Ayarportugal\t Page hits: 1\t Page size: 5808\n",
            "Project code: aa\t Page: Special:Contributions/Born2bgratis\t Page hits: 1\t Page size: 5812\n",
            "Project code: aa\t Page: Special:ListFiles/Betacommand\t Page hits: 1\t Page size: 5035\n",
            "Project code: aa\t Page: Special:ListFiles/Bohdan_p\t Page hits: 1\t Page size: 5036\n",
            "Project code: aa\t Page: Special:ListFiles/Nyttend\t Page hits: 1\t Page size: 5032\n",
            "Project code: aa\t Page: Special:Log/Md._Farhan\t Page hits: 1\t Page size: 5529\n",
            "Project code: aa\t Page: Special:Log/MikeLynch\t Page hits: 1\t Page size: 5368\n",
            "Project code: aa\t Page: Special:MyLanguage/Meta:Index\t Page hits: 1\t Page size: 4701\n",
            "Project code: aa\t Page: Special:RecentChangesLinked/Main_Page\t Page hits: 1\t Page size: 6152\n"
          ]
        }
      ]
    },
    {
      "cell_type": "markdown",
      "source": [
        "# **Question n°2**"
      ],
      "metadata": {
        "id": "c3N195gUSdXs"
      }
    },
    {
      "cell_type": "code",
      "source": [
        "log_RDD_Count = log_RDD.count()"
      ],
      "metadata": {
        "id": "HPVwEV2YGIHs"
      },
      "execution_count": 229,
      "outputs": []
    },
    {
      "cell_type": "code",
      "source": [
        "print(\"In this rdd, there is \" + str(log_RDD_Count) + \" records.\")"
      ],
      "metadata": {
        "id": "69GQFzXRSkA8",
        "colab": {
          "base_uri": "https://localhost:8080/"
        },
        "outputId": "350f3ec0-fd67-41d9-fc3e-659705c051d4"
      },
      "execution_count": 230,
      "outputs": [
        {
          "output_type": "stream",
          "name": "stdout",
          "text": [
            "In this rdd, there is 3324129 records.\n"
          ]
        }
      ]
    },
    {
      "cell_type": "markdown",
      "source": [
        "# **Question n°3**"
      ],
      "metadata": {
        "id": "CJMWTRbOSvjN"
      }
    },
    {
      "cell_type": "code",
      "source": [
        "log_RDD_Max = log_RDD.map(lambda x : x[3]).max()"
      ],
      "metadata": {
        "id": "GdqhEKO8J7UO"
      },
      "execution_count": 231,
      "outputs": []
    },
    {
      "cell_type": "code",
      "source": [
        "log_RDD_Min = log_RDD.map(lambda x : x[3]).min()"
      ],
      "metadata": {
        "id": "-Y8QEALTKnlp"
      },
      "execution_count": 232,
      "outputs": []
    },
    {
      "cell_type": "code",
      "source": [
        "log_RDD_Mean = (log_RDD.map(lambda x : x[3]).sum())/log_RDD_Count"
      ],
      "metadata": {
        "id": "PFwd-TjNMuC3"
      },
      "execution_count": 233,
      "outputs": []
    },
    {
      "cell_type": "code",
      "source": [
        "log_RDD_MaxHits = log_RDD.map(lambda x : x[2]).max()"
      ],
      "metadata": {
        "id": "b-tXM4CaUD5k"
      },
      "execution_count": 234,
      "outputs": []
    },
    {
      "cell_type": "code",
      "source": [
        "print(\"About the page size, we know that :\")\n",
        "print(\"The max is : \" + str(log_RDD_Max) + \", the min is : \" + str(log_RDD_Min) + \" and the mean is : \" + str(log_RDD_Mean))"
      ],
      "metadata": {
        "id": "efmKF2CbOjSZ",
        "colab": {
          "base_uri": "https://localhost:8080/"
        },
        "outputId": "9efdb2ab-011d-418c-a39b-a8104122bbb3"
      },
      "execution_count": 235,
      "outputs": [
        {
          "output_type": "stream",
          "name": "stdout",
          "text": [
            "About the page size, we know that :\n",
            "The max is : 141180155987, the min is : 0 and the mean is : 132239.56957446598\n"
          ]
        }
      ]
    },
    {
      "cell_type": "markdown",
      "source": [
        "# **Question n°4**"
      ],
      "metadata": {
        "id": "29Ie2XwSS3gt"
      }
    },
    {
      "cell_type": "code",
      "source": [
        "def keepMax(x):\n",
        "  if x[3]==log_RDD_Max:\n",
        "    return x"
      ],
      "metadata": {
        "id": "MBj5kgfWPWEa"
      },
      "execution_count": 236,
      "outputs": []
    },
    {
      "cell_type": "code",
      "source": [
        "log_RDD_MaxPages = log_RDD.filter(lambda x : keepMax(x))\n",
        "log_RDD_MaxPages.take(10)"
      ],
      "metadata": {
        "id": "dTS_zbY5O3lg",
        "colab": {
          "base_uri": "https://localhost:8080/"
        },
        "outputId": "c2d250b3-25c1-4d8f-f7e2-039205dd5317"
      },
      "execution_count": 237,
      "outputs": [
        {
          "output_type": "execute_result",
          "data": {
            "text/plain": [
              "[Row(project='en.mw', title='en', hits=5466346, size=141180155987)]"
            ]
          },
          "metadata": {},
          "execution_count": 237
        }
      ]
    },
    {
      "cell_type": "code",
      "source": [
        "def keepMin(x):\n",
        "  if x[3]==log_RDD_Min:\n",
        "    return x"
      ],
      "metadata": {
        "id": "KO09SmGnQ3Mx"
      },
      "execution_count": 238,
      "outputs": []
    },
    {
      "cell_type": "code",
      "source": [
        "log_RDD_MinPages = log_RDD.filter(lambda x : keepMin(x))\n",
        "log_RDD_MinPages.take(10)"
      ],
      "metadata": {
        "id": "6iQFttReQ6k0",
        "colab": {
          "base_uri": "https://localhost:8080/"
        },
        "outputId": "b878b732-751a-4c8e-d71b-9e107aae3c34"
      },
      "execution_count": 239,
      "outputs": [
        {
          "output_type": "execute_result",
          "data": {
            "text/plain": [
              "[Row(project='af', title='1337', hits=1, size=0),\n",
              " Row(project='af', title='1433', hits=1, size=0),\n",
              " Row(project='af', title='1498', hits=1, size=0),\n",
              " Row(project='af', title='1577', hits=1, size=0),\n",
              " Row(project='af', title='1864', hits=1, size=0),\n",
              " Row(project='af', title='689', hits=1, size=0),\n",
              " Row(project='af', title='Clifton-hangbrug', hits=1, size=0),\n",
              " Row(project='af', title='Die_Transvaler', hits=1, size=0),\n",
              " Row(project='af', title='Griekse_oergode', hits=1, size=0),\n",
              " Row(project='af', title='Kategorie:22ste_eeu', hits=1, size=0)]"
            ]
          },
          "metadata": {},
          "execution_count": 239
        }
      ]
    },
    {
      "cell_type": "markdown",
      "source": [
        "# **Question n°5**"
      ],
      "metadata": {
        "id": "zkFs3ylUTa8O"
      }
    },
    {
      "cell_type": "code",
      "source": [
        "print(log_RDD_MaxPages.first().hits)"
      ],
      "metadata": {
        "id": "EOcXasb_Tdsc",
        "colab": {
          "base_uri": "https://localhost:8080/"
        },
        "outputId": "33be47bf-9e5a-4d13-c059-6fa65fc21cbb"
      },
      "execution_count": 240,
      "outputs": [
        {
          "output_type": "stream",
          "name": "stdout",
          "text": [
            "5466346\n"
          ]
        }
      ]
    },
    {
      "cell_type": "code",
      "source": [
        "def keepMaxHits(x):\n",
        "  if x[2]==log_RDD_MaxHits:\n",
        "    return x"
      ],
      "metadata": {
        "id": "HyUYx-MKT3Ny"
      },
      "execution_count": 241,
      "outputs": []
    },
    {
      "cell_type": "code",
      "source": [
        "log_RDD_MaxHitsDone = log_RDD.filter(lambda x : keepMaxHits(x))\n",
        "log_RDD_MaxHitsDone.take(10)"
      ],
      "metadata": {
        "id": "CoCCgzVOT8_7",
        "colab": {
          "base_uri": "https://localhost:8080/"
        },
        "outputId": "2aa61888-feaa-48e4-83f3-4bb307b821fc"
      },
      "execution_count": 242,
      "outputs": [
        {
          "output_type": "execute_result",
          "data": {
            "text/plain": [
              "[Row(project='en.mw', title='en', hits=5466346, size=141180155987)]"
            ]
          },
          "metadata": {},
          "execution_count": 242
        }
      ]
    },
    {
      "cell_type": "markdown",
      "source": [
        "# **Question n°6**"
      ],
      "metadata": {
        "id": "tFl8HD5HVwuf"
      }
    },
    {
      "cell_type": "code",
      "source": [
        "def keepSupAverage(x):\n",
        "  if x[3]>log_RDD_Mean:\n",
        "    return x"
      ],
      "metadata": {
        "id": "SdsP5-NSV1c3"
      },
      "execution_count": 243,
      "outputs": []
    },
    {
      "cell_type": "code",
      "source": [
        "log_RDD_MaxPages = log_RDD.filter(lambda x : keepSupAverage(x))\n",
        "log_RDD_MaxPages.take(10)"
      ],
      "metadata": {
        "id": "lAg07zVcV9qH",
        "colab": {
          "base_uri": "https://localhost:8080/"
        },
        "outputId": "09aafe56-62e2-414a-e9f7-bd3c1876ec5b"
      },
      "execution_count": 244,
      "outputs": [
        {
          "output_type": "execute_result",
          "data": {
            "text/plain": [
              "[Row(project='aa', title='Main_Page', hits=5, size=266946),\n",
              " Row(project='ace.mw', title='ace', hits=31, size=827168),\n",
              " Row(project='af', title='1859', hits=4, size=219540),\n",
              " Row(project='af', title='18_Oktober', hits=4, size=264724),\n",
              " Row(project='af', title='1941', hits=4, size=256344),\n",
              " Row(project='af', title='2016', hits=5, size=215498),\n",
              " Row(project='af', title='4_Januarie', hits=4, size=268828),\n",
              " Row(project='af', title='Afrika-unie', hits=1, size=172078),\n",
              " Row(project='af', title='Big_Ben', hits=13, size=136201),\n",
              " Row(project='af', title='Comrades-maraton', hits=1, size=155180)]"
            ]
          },
          "metadata": {},
          "execution_count": 244
        }
      ]
    },
    {
      "cell_type": "markdown",
      "source": [
        "# **Question n°7**"
      ],
      "metadata": {
        "id": "YaEPAG6bW3q8"
      }
    },
    {
      "cell_type": "code",
      "source": [
        "log_RDD_HitsPerProject = log_RDD.map(lambda x : (x[0], x[2])).reduceByKey(lambda x, y : x+y).sortBy(lambda row : row[1], ascending=False)"
      ],
      "metadata": {
        "id": "iQZfjkPyW59M"
      },
      "execution_count": 245,
      "outputs": []
    },
    {
      "cell_type": "code",
      "source": [
        "log_RDD_HitsPerProject.take(10)"
      ],
      "metadata": {
        "id": "EFBGR0wxZf3Y",
        "colab": {
          "base_uri": "https://localhost:8080/"
        },
        "outputId": "4392ae9d-0760-49cb-ec83-9c59f2844dcf"
      },
      "execution_count": 246,
      "outputs": [
        {
          "output_type": "execute_result",
          "data": {
            "text/plain": [
              "[('en.mw', 5466346),\n",
              " ('en', 4959090),\n",
              " ('es.mw', 695531),\n",
              " ('ja.mw', 611443),\n",
              " ('de.mw', 572119),\n",
              " ('fr.mw', 536978),\n",
              " ('ru.mw', 466742),\n",
              " ('it.mw', 400297),\n",
              " ('de', 315929),\n",
              " ('commons.m', 285796)]"
            ]
          },
          "metadata": {},
          "execution_count": 246
        }
      ]
    },
    {
      "cell_type": "code",
      "source": [
        "log_RDD_HitsPerPage = log_RDD.map(lambda x : (x[1], x[2])).reduceByKey(lambda x, y : x+y).sortBy(lambda row : row[1], ascending=False)"
      ],
      "metadata": {
        "id": "lAQ5cB-R5H6z"
      },
      "execution_count": 247,
      "outputs": []
    },
    {
      "cell_type": "code",
      "source": [
        "log_RDD_HitsPerPage.take(5)"
      ],
      "metadata": {
        "colab": {
          "base_uri": "https://localhost:8080/"
        },
        "id": "KGYZ879K5G-D",
        "outputId": "68dc95eb-eb21-49aa-bcdf-05490f29bbc1"
      },
      "execution_count": 248,
      "outputs": [
        {
          "output_type": "execute_result",
          "data": {
            "text/plain": [
              "[('en', 5466350),\n",
              " ('es', 695535),\n",
              " ('ja', 611451),\n",
              " ('de', 572129),\n",
              " ('fr', 536978)]"
            ]
          },
          "metadata": {},
          "execution_count": 248
        }
      ]
    },
    {
      "cell_type": "markdown",
      "source": [
        "# **Question n°8**"
      ],
      "metadata": {
        "id": "Ev5gugvebhIu"
      }
    },
    {
      "cell_type": "code",
      "source": [
        "##### Create the cleaning function\n",
        "\n",
        "def cleaningFunc(text):\n",
        "  text = text.lower()\n",
        "  translator = text.maketrans(string.punctuation,\"_\" * len(string.punctuation))\n",
        "  text = text.translate(translator)\n",
        "  text = text.split(\"_\")\n",
        "  return text"
      ],
      "metadata": {
        "id": "q_AdfThbcptI"
      },
      "execution_count": 249,
      "outputs": []
    },
    {
      "cell_type": "code",
      "source": [
        "tst = \"Requests_for.new:languages/Wikipedia-Banyumasan\"\n",
        "print(cleaningFunc(tst))"
      ],
      "metadata": {
        "id": "_b44bAbVvfVi",
        "colab": {
          "base_uri": "https://localhost:8080/"
        },
        "outputId": "96d70f3a-8dab-4ca4-e54b-16d254524396"
      },
      "execution_count": 250,
      "outputs": [
        {
          "output_type": "stream",
          "name": "stdout",
          "text": [
            "['requests', 'for', 'new', 'languages', 'wikipedia', 'banyumasan']\n"
          ]
        }
      ]
    },
    {
      "cell_type": "code",
      "source": [
        "log_RDD_PageName2 = log_RDD.flatMap(lambda x : cleaningFunc(x[1])) #unfold the table\n",
        "\n",
        "log_RDD_PageNameWordOnly = log_RDD_PageName2.filter(lambda x: x.isalpha()).map(lambda x : (x, 1))\n",
        "\n",
        "log_RDD_PageNameWithOccurences = log_RDD_PageNameWordOnly.reduceByKey(lambda x, y : x+y)\n",
        "\n",
        "log_RDD_Page_UniqueWord = log_RDD_PageNameWithOccurences.filter(lambda x : x[1]==1).map(lambda x : x[0])\n",
        "\n",
        "log_RDD_Page_UniqueWord.take(10)"
      ],
      "metadata": {
        "id": "3OQDwZyqc6Nf",
        "colab": {
          "base_uri": "https://localhost:8080/"
        },
        "outputId": "0e2fbf24-512d-4364-887f-94bd3b4deabc"
      },
      "execution_count": 251,
      "outputs": [
        {
          "output_type": "execute_result",
          "data": {
            "text/plain": [
              "['ayeuen',\n",
              " 'jeureuman',\n",
              " 'blankmapturkeyprovinces',\n",
              " 'closeter',\n",
              " 'mmfe',\n",
              " 'syaitan',\n",
              " 'seisoen',\n",
              " 'kampioenskap',\n",
              " 'drienasiesreeks',\n",
              " 'mosambiekse']"
            ]
          },
          "metadata": {},
          "execution_count": 251
        }
      ]
    },
    {
      "cell_type": "markdown",
      "source": [
        "# **Question n°9**"
      ],
      "metadata": {
        "id": "5DgKE5Rf2tBr"
      }
    },
    {
      "cell_type": "code",
      "source": [
        "log_TitleName_Ordered = log_RDD_PageNameWithOccurences.sortBy(lambda row : row[1], ascending=False)\n",
        "\n",
        "log_TitleName_Ordered.first()"
      ],
      "metadata": {
        "id": "FedTG8X81j-Q",
        "colab": {
          "base_uri": "https://localhost:8080/"
        },
        "outputId": "4a008c45-1a7a-472a-ea0c-df779c67b74e"
      },
      "execution_count": 252,
      "outputs": [
        {
          "output_type": "execute_result",
          "data": {
            "text/plain": [
              "('special', 253531)"
            ]
          },
          "metadata": {},
          "execution_count": 252
        }
      ]
    },
    {
      "cell_type": "markdown",
      "source": [
        "---\n",
        "# **Exercise n°2: Query Web Logs with Spark SQL**\n",
        "\n",
        "\n",
        "\n"
      ],
      "metadata": {
        "id": "gEFDDu1mp8LO"
      }
    },
    {
      "cell_type": "code",
      "source": [
        "wiki_DF.show()"
      ],
      "metadata": {
        "id": "sT3-iGNqp7Xl",
        "colab": {
          "base_uri": "https://localhost:8080/"
        },
        "outputId": "1a2f30ad-3885-4487-a571-8cc533d63528"
      },
      "execution_count": 253,
      "outputs": [
        {
          "output_type": "stream",
          "name": "stdout",
          "text": [
            "+-------+--------------------+---------+---------+\n",
            "|Project|          Page_title|Page_hits|Page_size|\n",
            "+-------+--------------------+---------+---------+\n",
            "|     aa|             271_a.C|        1|     4675|\n",
            "|     aa|    Category:User_th|        1|     4770|\n",
            "|     aa|  Chiron_Elias_Krase|        1|     4694|\n",
            "|     aa|    Dassault_rafaele|        2|     9372|\n",
            "|     aa|              E.Desv|        1|     4662|\n",
            "|     aa|File:Wiktionary-l...|        1|    10752|\n",
            "|     aa|Indonesian_Wikipedia|        1|     4679|\n",
            "|     aa|           Main_Page|        5|   266946|\n",
            "|     aa|Requests_for_new_...|        1|     4733|\n",
            "|     aa|Special:Contribut...|        1|     5812|\n",
            "|     aa|Special:Contribut...|        1|     5805|\n",
            "|     aa|Special:Contribut...|        1|     5808|\n",
            "|     aa|Special:Contribut...|        1|     5812|\n",
            "|     aa|Special:ListFiles...|        1|     5035|\n",
            "|     aa|Special:ListFiles...|        1|     5036|\n",
            "|     aa|Special:ListFiles...|        1|     5032|\n",
            "|     aa|Special:Log/Md._F...|        1|     5529|\n",
            "|     aa|Special:Log/MikeL...|        1|     5368|\n",
            "|     aa|Special:MyLanguag...|        1|     4701|\n",
            "|     aa|Special:RecentCha...|        1|     6152|\n",
            "+-------+--------------------+---------+---------+\n",
            "only showing top 20 rows\n",
            "\n"
          ]
        }
      ]
    },
    {
      "cell_type": "markdown",
      "source": [
        "# **Question n°3 bis**"
      ],
      "metadata": {
        "id": "rcXU17zSrwFW"
      }
    },
    {
      "cell_type": "code",
      "source": [
        "wiki_DF.select(max(\"Page_size\")).show()"
      ],
      "metadata": {
        "id": "5QEnPGU6qr8N",
        "colab": {
          "base_uri": "https://localhost:8080/"
        },
        "outputId": "6ca12be5-ae2a-46f3-e0ae-d8fa3a0aab29"
      },
      "execution_count": 254,
      "outputs": [
        {
          "output_type": "stream",
          "name": "stdout",
          "text": [
            "+--------------+\n",
            "|max(Page_size)|\n",
            "+--------------+\n",
            "|  141180155987|\n",
            "+--------------+\n",
            "\n"
          ]
        }
      ]
    },
    {
      "cell_type": "code",
      "source": [
        "wiki_DF.select(min(\"Page_size\")).show()"
      ],
      "metadata": {
        "id": "GnqSHsqqrZle",
        "colab": {
          "base_uri": "https://localhost:8080/"
        },
        "outputId": "dc5e175d-dd8f-4117-9921-880fa7a47c24"
      },
      "execution_count": 255,
      "outputs": [
        {
          "output_type": "stream",
          "name": "stdout",
          "text": [
            "+--------------+\n",
            "|min(Page_size)|\n",
            "+--------------+\n",
            "|             0|\n",
            "+--------------+\n",
            "\n"
          ]
        }
      ]
    },
    {
      "cell_type": "code",
      "source": [
        "wiki_DF.select(mean(\"Page_size\")).show()"
      ],
      "metadata": {
        "id": "3aT6LmJmrgid",
        "colab": {
          "base_uri": "https://localhost:8080/"
        },
        "outputId": "f5c4c4f3-e379-482b-e645-0164b543ef78"
      },
      "execution_count": 256,
      "outputs": [
        {
          "output_type": "stream",
          "name": "stdout",
          "text": [
            "+------------------+\n",
            "|    avg(Page_size)|\n",
            "+------------------+\n",
            "|132239.56957446598|\n",
            "+------------------+\n",
            "\n"
          ]
        }
      ]
    },
    {
      "cell_type": "markdown",
      "source": [
        "# **Question n°5 bis**"
      ],
      "metadata": {
        "id": "KgKAJCSqr1Ae"
      }
    },
    {
      "cell_type": "code",
      "source": [
        "maxDF = wiki_DF.select(max(\"Page_size\")).collect()[0][0]\n",
        "minDF = wiki_DF.select(min(\"Page_size\")).collect()[0][0]\n",
        "meanDF = wiki_DF.select(mean(\"Page_size\")).collect()[0][0]"
      ],
      "metadata": {
        "id": "MqthJ3vesdxo"
      },
      "execution_count": 257,
      "outputs": []
    },
    {
      "cell_type": "code",
      "source": [
        "wiki_DF_MaxPages = wiki_DF.filter(wiki_DF.Page_size==maxDF)\n",
        "\n",
        "wiki_DF_MaxPages.show()"
      ],
      "metadata": {
        "id": "Dxi1KgSouB1A",
        "colab": {
          "base_uri": "https://localhost:8080/"
        },
        "outputId": "3e417b77-2699-447d-a23e-6d8d79b862a3"
      },
      "execution_count": 258,
      "outputs": [
        {
          "output_type": "stream",
          "name": "stdout",
          "text": [
            "+-------+----------+---------+------------+\n",
            "|Project|Page_title|Page_hits|   Page_size|\n",
            "+-------+----------+---------+------------+\n",
            "|  en.mw|        en|  5466346|141180155987|\n",
            "+-------+----------+---------+------------+\n",
            "\n"
          ]
        }
      ]
    },
    {
      "cell_type": "code",
      "source": [
        "maxHitsDF = wiki_DF.select(max(\"Page_hits\")).collect()[0][0]\n",
        "\n",
        "print(maxHitsDF)"
      ],
      "metadata": {
        "id": "j8T-HAAevHLf",
        "colab": {
          "base_uri": "https://localhost:8080/"
        },
        "outputId": "abc24bab-5e22-4743-db13-589910308f96"
      },
      "execution_count": 259,
      "outputs": [
        {
          "output_type": "stream",
          "name": "stdout",
          "text": [
            "5466346\n"
          ]
        }
      ]
    },
    {
      "cell_type": "code",
      "source": [
        "wiki_DF_MaxHits = wiki_DF.filter(wiki_DF.Page_hits==maxHitsDF)\n",
        "\n",
        "wiki_DF_MaxHits.show()"
      ],
      "metadata": {
        "id": "bTpT1wh3viqQ",
        "colab": {
          "base_uri": "https://localhost:8080/"
        },
        "outputId": "3b727fb3-56a7-4e15-c254-e4677cf4aae7"
      },
      "execution_count": 260,
      "outputs": [
        {
          "output_type": "stream",
          "name": "stdout",
          "text": [
            "+-------+----------+---------+------------+\n",
            "|Project|Page_title|Page_hits|   Page_size|\n",
            "+-------+----------+---------+------------+\n",
            "|  en.mw|        en|  5466346|141180155987|\n",
            "+-------+----------+---------+------------+\n",
            "\n"
          ]
        }
      ]
    },
    {
      "cell_type": "code",
      "source": [
        "wiki_DF_MinPages = wiki_DF.filter(wiki_DF.Page_size==minDF)\n",
        "\n",
        "wiki_DF_MinPages.show()"
      ],
      "metadata": {
        "id": "azBlspuGu80w",
        "colab": {
          "base_uri": "https://localhost:8080/"
        },
        "outputId": "9cb67b5b-eab5-4d28-874d-fb47b5748792"
      },
      "execution_count": 261,
      "outputs": [
        {
          "output_type": "stream",
          "name": "stdout",
          "text": [
            "+-------+--------------------+---------+---------+\n",
            "|Project|          Page_title|Page_hits|Page_size|\n",
            "+-------+--------------------+---------+---------+\n",
            "|     af|                1337|        1|        0|\n",
            "|     af|                1433|        1|        0|\n",
            "|     af|                1498|        1|        0|\n",
            "|     af|                1577|        1|        0|\n",
            "|     af|                1864|        1|        0|\n",
            "|     af|                 689|        1|        0|\n",
            "|     af|    Clifton-hangbrug|        1|        0|\n",
            "|     af|      Die_Transvaler|        1|        0|\n",
            "|     af|     Griekse_oergode|        1|        0|\n",
            "|     af| Kategorie:22ste_eeu|        1|        0|\n",
            "|     af|Kategorie:Geograf...|        2|        0|\n",
            "|     af|Kategorie:Middeld...|        1|        0|\n",
            "|     af|  Kategorie:Politiek|        2|        0|\n",
            "|     af|             Lapland|        2|        0|\n",
            "|     af|             Oktober|        1|        0|\n",
            "|     af|Sjabloon:Susterpr...|        2|        0|\n",
            "|     af|             Skrywer|        1|        0|\n",
            "|     af|Unie_van_Suid-Afrika|        2|        0|\n",
            "|     af|Wikipedia:Kernart...|        2|        0|\n",
            "|     ak|Mentarimedia_Webi...|        1|        0|\n",
            "+-------+--------------------+---------+---------+\n",
            "only showing top 20 rows\n",
            "\n"
          ]
        }
      ]
    },
    {
      "cell_type": "markdown",
      "source": [
        "# **Question n°6 bis**"
      ],
      "metadata": {
        "id": "G57gHa6QxBCh"
      }
    },
    {
      "cell_type": "code",
      "source": [
        "wiki_DF_AboveAverage = wiki_DF.filter(wiki_DF.Page_size>meanDF)"
      ],
      "metadata": {
        "id": "UHHT4C1KvE14"
      },
      "execution_count": 262,
      "outputs": []
    },
    {
      "cell_type": "code",
      "source": [
        "wiki_DF_AboveAverage.show(10)"
      ],
      "metadata": {
        "id": "v0CU1xjfxP3Z",
        "colab": {
          "base_uri": "https://localhost:8080/"
        },
        "outputId": "adffc262-0066-451d-d578-fa00294a112c"
      },
      "execution_count": 263,
      "outputs": [
        {
          "output_type": "stream",
          "name": "stdout",
          "text": [
            "+-------+----------------+---------+---------+\n",
            "|Project|      Page_title|Page_hits|Page_size|\n",
            "+-------+----------------+---------+---------+\n",
            "|     aa|       Main_Page|        5|   266946|\n",
            "| ace.mw|             ace|       31|   827168|\n",
            "|     af|            1859|        4|   219540|\n",
            "|     af|      18_Oktober|        4|   264724|\n",
            "|     af|            1941|        4|   256344|\n",
            "|     af|            2016|        5|   215498|\n",
            "|     af|      4_Januarie|        4|   268828|\n",
            "|     af|     Afrika-unie|        1|   172078|\n",
            "|     af|         Big_Ben|       13|   136201|\n",
            "|     af|Comrades-maraton|        1|   155180|\n",
            "+-------+----------------+---------+---------+\n",
            "only showing top 10 rows\n",
            "\n"
          ]
        }
      ]
    },
    {
      "cell_type": "markdown",
      "source": [
        "# **Question n°8 bis**"
      ],
      "metadata": {
        "id": "LyOpDTlo2w9T"
      }
    },
    {
      "cell_type": "code",
      "source": [
        "# define with udf a function applicable on a dataframe\n",
        "clean_udf = udf(cleaningFunc, ArrayType(StringType()))\n",
        "\n",
        "# we apply our new cleaning function to the title_page column\n",
        "cleaned_DF = wiki_DF.withColumn(\"words\", clean_udf(wiki_DF[\"Page_title\"]))\n",
        "\n",
        "# explode: equivalent to flatMap but for dataframe\n",
        "exploded_DF = cleaned_DF.select(explode(cleaned_DF[\"words\"]).alias(\"word\"))\n",
        "\n",
        "# we filter to keep only lowercase words\n",
        "filtered_DF = exploded_DF.filter(regexp_extract(exploded_DF[\"word\"], r\"[a-z]+\", 0) != \"\")\n",
        "\n",
        "# only words that appear once are kept\n",
        "unique_words_DF = filtered_DF.select(\"word\").distinct()\n",
        "\n",
        "# on affiche\n",
        "unique_words_DF.show()"
      ],
      "metadata": {
        "colab": {
          "base_uri": "https://localhost:8080/"
        },
        "id": "fV53DUP_Iz20",
        "outputId": "af0a0cca-d16b-4afd-a849-08a9720894e2"
      },
      "execution_count": 264,
      "outputs": [
        {
          "output_type": "stream",
          "name": "stdout",
          "text": [
            "+----------+\n",
            "|      word|\n",
            "+----------+\n",
            "|    trotus|\n",
            "|     oscar|\n",
            "|    harder|\n",
            "|    morant|\n",
            "|  cheyenne|\n",
            "|    petrie|\n",
            "|     pools|\n",
            "|  guernsey|\n",
            "|   serebro|\n",
            "|     fijru|\n",
            "|    toegra|\n",
            "|     turks|\n",
            "|    welkom|\n",
            "|       art|\n",
            "|  heinrich|\n",
            "|      elsa|\n",
            "|     monte|\n",
            "|occidental|\n",
            "|   familia|\n",
            "|shevchenko|\n",
            "+----------+\n",
            "only showing top 20 rows\n",
            "\n"
          ]
        }
      ]
    },
    {
      "cell_type": "markdown",
      "source": [
        "# **Bonus : Question n°9 bis**"
      ],
      "metadata": {
        "id": "ZnNhR-N_O37B"
      }
    },
    {
      "cell_type": "code",
      "source": [
        "# count() creates a new \"count\" column with the number of repetitions of the words in the \"word\" column\n",
        "count_DF = filtered_DF.groupBy(\"word\").count()\n",
        "\n",
        "# we order in descending order of the count and display the first line\n",
        "most_frequent_word = count_DF.orderBy(desc(\"count\")).first()\n",
        "\n",
        "print(most_frequent_word)"
      ],
      "metadata": {
        "colab": {
          "base_uri": "https://localhost:8080/"
        },
        "id": "NOpBCtqtPGTr",
        "outputId": "c11b5775-6593-4f14-d007-2a852ad56c4a"
      },
      "execution_count": 265,
      "outputs": [
        {
          "output_type": "stream",
          "name": "stdout",
          "text": [
            "Row(word='special', count=253531)\n"
          ]
        }
      ]
    }
  ]
}